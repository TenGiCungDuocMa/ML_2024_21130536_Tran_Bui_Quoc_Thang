{
  "nbformat": 4,
  "nbformat_minor": 0,
  "metadata": {
    "colab": {
      "provenance": [],
      "authorship_tag": "ABX9TyPz7J+sOYfaormH1F0mUWcX",
      "include_colab_link": true
    },
    "kernelspec": {
      "name": "python3",
      "display_name": "Python 3"
    },
    "language_info": {
      "name": "python"
    }
  },
  "cells": [
    {
      "cell_type": "markdown",
      "metadata": {
        "id": "view-in-github",
        "colab_type": "text"
      },
      "source": [
        "<a href=\"https://colab.research.google.com/github/TenGiCungDuocMa/ML_2024_21130536_Tran_Bui_Quoc_Thang/blob/main/Lab1_21130536_TranBuiQuocThang.ipynb\" target=\"_parent\"><img src=\"https://colab.research.google.com/assets/colab-badge.svg\" alt=\"Open In Colab\"/></a>"
      ]
    },
    {
      "cell_type": "markdown",
      "source": [
        "Task 1. Python Programming\n"
      ],
      "metadata": {
        "id": "_c820paTbFVk"
      }
    },
    {
      "cell_type": "markdown",
      "source": [
        "Task 1.1"
      ],
      "metadata": {
        "id": "GpsOpcJFbQ0W"
      }
    },
    {
      "cell_type": "code",
      "execution_count": 31,
      "metadata": {
        "id": "m145EMBOwmo6",
        "colab": {
          "base_uri": "https://localhost:8080/"
        },
        "outputId": "79cc2ed6-0916-430f-84fc-d1db1029d478"
      },
      "outputs": [
        {
          "output_type": "stream",
          "name": "stdout",
          "text": [
            "Enter n= 10\n",
            "Enter = 1\n",
            "Enter = 3\n",
            "Enter = -1\n",
            "Enter = -3\n",
            "Enter = 6\n",
            "Enter = 8\n",
            "Enter = 4\n",
            "Enter = 2\n",
            "Enter = 0\n",
            "Enter = 0\n",
            "Min element in L is:  -3\n",
            "Max element in L is:  8\n",
            "Sum of l is:  20\n",
            "The total number of positive numbers is: 6\n",
            "The total number of negative numbers is: 2\n"
          ]
        }
      ],
      "source": [
        "#task1_1\n",
        "def task1_1():\n",
        "  n = int(input('Enter n= '))\n",
        "  l = []\n",
        "  for i in range(n):\n",
        "    l.append(int(input('Enter = ')))\n",
        "  l.sort()\n",
        "  print('Min element in L is: ',l[0])\n",
        "  l.reverse()\n",
        "  print('Max element in L is: ',l[0])\n",
        "  sumL = sum(l)\n",
        "  print('Sum of l is: ',sumL)\n",
        "  l.reverse()\n",
        "  countPosNum = 0\n",
        "  countNegNum = 0\n",
        "  for number in l:\n",
        "    if(number == 0):\n",
        "      continue\n",
        "    if (number> 0):\n",
        "      countPosNum += 1\n",
        "    else:\n",
        "      countNegNum += 1\n",
        "  print('The total number of positive numbers is:',countPosNum)\n",
        "  print('The total number of negative numbers is:',countNegNum)\n",
        "task1_1()"
      ]
    },
    {
      "cell_type": "markdown",
      "source": [
        "Task 1.2"
      ],
      "metadata": {
        "id": "7-BylIj_a9nd"
      }
    },
    {
      "cell_type": "code",
      "source": [
        "#task1_2\n",
        "def factorial(n):\n",
        "  if (n == 0):\n",
        "    return 1\n",
        "  return n*factorial(n-1)\n",
        "\n",
        "def task1_2(total,n):\n",
        "  if (n < 2):\n",
        "    return total + 1\n",
        "  else:\n",
        "    return task1_2(total,n-1) + factorial(n)\n",
        "\n",
        "s = task1_2(0,99)\n",
        "print(s)"
      ],
      "metadata": {
        "id": "0zBe5tNR9qZM",
        "colab": {
          "base_uri": "https://localhost:8080/"
        },
        "outputId": "ed099811-8818-492f-92f2-de9ffe6f35cb"
      },
      "execution_count": null,
      "outputs": [
        {
          "output_type": "stream",
          "name": "stdout",
          "text": [
            "942786239765826579160595268206839381354754349601050974345395410407078230249590414458830117442618180732911203520208889371641659121356556442336528920420940313\n"
          ]
        }
      ]
    },
    {
      "cell_type": "markdown",
      "source": [
        "Task 1.3"
      ],
      "metadata": {
        "id": "jtfvoF0lbt0X"
      }
    },
    {
      "cell_type": "code",
      "source": [
        "#task1_3\n",
        "#create class Account\n",
        "class Account:\n",
        "  def __init__(selt, name, email, country):\n",
        "    selt._name = name\n",
        "    selt._email = email\n",
        "    selt._country = country\n",
        "    selt._friends = []\n",
        "    selt._posts = []\n",
        "\n",
        "  def getName(selt):\n",
        "    return selt._name\n",
        "\n",
        "  def getFriends(selt):\n",
        "    return selt._friends\n",
        "\n",
        "  def getPosts(selt):\n",
        "    return selt._posts\n",
        "\n",
        "  def getCountry(selt):\n",
        "    return selt._country\n",
        "\n",
        "  def toString(selt):\n",
        "    return selt._name + ', ' + selt._email + ', ' + selt._country + ', '\n",
        "    + selt._friends+ ', ' + selt._posts\n",
        "\n",
        "  def getMaxLikePostByFriend(selt):\n",
        "    maxlike = -10\n",
        "    accountHasMaxLike = None\n",
        "    for f in selt._friends:\n",
        "      for p in f.getPosts():\n",
        "        if(p.getLikes() > maxlike):\n",
        "          maxlike = p.getLikes()\n",
        "          accountHasMaxLike = f\n",
        "        else:\n",
        "          maxlike = maxlike\n",
        "    return accountHasMaxLike\n",
        "\n",
        "#create class VerifiedAccount\n",
        "class VerifiedAccount(Account):\n",
        "  def __init__(selt, name, email, country,fromDate):\n",
        "    super().__init__(name,email,country)\n",
        "    selt.__fromDate = fromDate\n",
        "\n",
        "class NormalProduct(Account):\n",
        "  def __init__(selt, name, email, country):\n",
        "    super().__init__(name,email,country)\n",
        "\n",
        "#create class Post\n",
        "class Post:\n",
        "  def __init__(selt, content, subject, likes):\n",
        "    selt.__content = content\n",
        "    selt.__subject = subject\n",
        "    selt.__likes = likes\n",
        "  def getLikes(selt):\n",
        "    return selt.__likes\n",
        "\n",
        "#create class\n",
        "class AccountManager():\n",
        "  def __init__(selt):\n",
        "    selt.__accounts = []\n",
        "\n",
        "  def getAccounts(selt):\n",
        "    return selt.__accounts\n",
        "\n",
        "  def groupAccountsByPostLike(selt):\n",
        "    d = {}\n",
        "    for acc in selt.__accounts:\n",
        "      if (len(acc.getPosts()) < 10):\n",
        "        d[False]= acc\n",
        "      else:\n",
        "        d[True] = acc\n",
        "    return d\n",
        "\n",
        "  def filterAccounts(selt,country):\n",
        "    listset = []\n",
        "    for acc in selt.__accounts:\n",
        "      if (acc.getCountry() == country):\n",
        "        listset.append(acc)\n",
        "    res = sorted(listset, reverse=True, key=lambda ac : len(ac.getPosts()))\n",
        "    result = sorted(res, key=lambda ac: ac.getName())\n",
        "    return result\n",
        "\n",
        "#test\n",
        "post1 = Post('sang nay an gi', 'sang nay an khoai lang luoc',200000)\n",
        "post2 = Post('trua nay an gi', 'trua nay an hu tieu',5000)\n",
        "post3 = Post('chieu nay an gi', 'chieu nay an banh xeo',4000)\n",
        "post4 = Post('toi nay an gi', 'toi nay an kem',300000)\n",
        "post5 = Post('sang mai an gi', 'sang mai an com',15000)\n",
        "post6 = Post('trua mai an gi', 'trua mai an banh canh',90)\n",
        "post7 = Post('chieu mai an gi', 'chieu mai an bun',3010)\n",
        "post8 = Post('toi mai an gi', 'toi mai an mi tom',900000000)\n",
        "post9 = Post('toi nay uong gi', 'toi nay uong ca phe',455600)\n",
        "post10 = Post('sang nay uong gi', 'sang nay uong tra sua',1000)\n",
        "\n",
        "acc1 = VerifiedAccount('tran bui quoc thang', '123@gmail.com', 'VN', '10/2/2024')\n",
        "acc2 = VerifiedAccount('tran quoc thang', '123asdf@gmail.com', 'VN','9/3/2022')\n",
        "acc3 = NormalProduct('tran thang', 'xcvb123@gmail.com', 'USA')\n",
        "\n",
        "acc1.getFriends().append(acc2)\n",
        "acc1.getFriends().append(acc3)\n",
        "acc1.getPosts().append(post1)\n",
        "acc1.getPosts().append(post2)\n",
        "acc1.getPosts().append(post3)\n",
        "acc1.getPosts().append(post4)\n",
        "acc1.getPosts().append(post5)\n",
        "acc1.getPosts().append(post6)\n",
        "acc1.getPosts().append(post7)\n",
        "acc1.getPosts().append(post8)\n",
        "acc1.getPosts().append(post9)\n",
        "acc1.getPosts().append(post10)\n",
        "\n",
        "acc2.getFriends().append(acc3)\n",
        "acc2.getFriends().append(acc1)\n",
        "acc2.getPosts().append(post2)\n",
        "acc2.getPosts().append(post4)\n",
        "acc2.getPosts().append(post6)\n",
        "acc2.getPosts().append(post7)\n",
        "acc2.getPosts().append(post8)\n",
        "acc2.getPosts().append(post10)\n",
        "\n",
        "acc3.getFriends().append(acc1)\n",
        "acc3.getFriends().append(acc2)\n",
        "acc3.getPosts().append(post4)\n",
        "acc3.getPosts().append(post3)\n",
        "acc3.getPosts().append(post5)\n",
        "acc3.getPosts().append(post7)\n",
        "acc3.getPosts().append(post8)\n",
        "acc3.getPosts().append(post9)\n",
        "acc3.getPosts().append(post1)\n",
        "\n",
        "print('Get Max Like Post By Friend:')\n",
        "print(acc1.getMaxLikePostByFriend().toString())\n",
        "print(acc2.getMaxLikePostByFriend().toString())\n",
        "print(acc3.getMaxLikePostByFriend().toString())\n",
        "\n",
        "accmana = AccountManager()\n",
        "accmana.getAccounts().append(acc2)\n",
        "accmana.getAccounts().append(acc3)\n",
        "accmana.getAccounts().append(acc1)\n",
        "\n",
        "print('----------------------------------')\n",
        "print('Group Account By Post Like:')\n",
        "for key,value in accmana.groupAccountsByPostLike().items():\n",
        "  print(key,':',value.toString())\n",
        "\n",
        "print('----------------------------------')\n",
        "print('Filter Accounts:')\n",
        "for i in accmana.filterAccounts('VN'):\n",
        "  print(i.toString())"
      ],
      "metadata": {
        "colab": {
          "base_uri": "https://localhost:8080/"
        },
        "id": "ks2JE4wN606O",
        "outputId": "91160875-7a1e-40c3-fc82-dcbb847fb4dc"
      },
      "execution_count": 4,
      "outputs": [
        {
          "output_type": "stream",
          "name": "stdout",
          "text": [
            "Get Max Like Post By Friend:\n",
            "tran quoc thang, 123asdf@gmail.com, VN, \n",
            "tran thang, xcvb123@gmail.com, USA, \n",
            "tran bui quoc thang, 123@gmail.com, VN, \n",
            "----------------------------------\n",
            "Group Account By Post Like:\n",
            "False : tran thang, xcvb123@gmail.com, USA, \n",
            "True : tran bui quoc thang, 123@gmail.com, VN, \n",
            "----------------------------------\n",
            "Filter Accounts:\n",
            "tran bui quoc thang, 123@gmail.com, VN, \n",
            "tran quoc thang, 123asdf@gmail.com, VN, \n"
          ]
        }
      ]
    },
    {
      "cell_type": "markdown",
      "source": [
        "Task 2. NumPy API"
      ],
      "metadata": {
        "id": "SKUzTiJGbx1z"
      }
    },
    {
      "cell_type": "markdown",
      "source": [
        "Task 2.1"
      ],
      "metadata": {
        "id": "BirBedp0b38L"
      }
    },
    {
      "cell_type": "code",
      "source": [
        "#Task 2.1\n",
        "import numpy as np\n",
        "\n",
        "x = np.arange(10,26)\n",
        "x = x[::-1]\n",
        "print(x)"
      ],
      "metadata": {
        "colab": {
          "base_uri": "https://localhost:8080/"
        },
        "id": "cyEdGXTJQX5J",
        "outputId": "c174caa1-f240-4184-cc55-6ca2ce51802b"
      },
      "execution_count": 21,
      "outputs": [
        {
          "output_type": "stream",
          "name": "stdout",
          "text": [
            "[25 24 23 22 21 20 19 18 17 16 15 14 13 12 11 10]\n"
          ]
        }
      ]
    },
    {
      "cell_type": "markdown",
      "source": [
        "Task 2.2"
      ],
      "metadata": {
        "id": "NGjOK3FGb_bj"
      }
    },
    {
      "cell_type": "code",
      "source": [
        "#task 2.2\n",
        "import numpy as np\n",
        "\n",
        "def task2_2(array,n):\n",
        "  return np.tile(array,n)\n",
        "\n",
        "#test\n",
        "array = [1, 2, 3, 4]\n",
        "print(task2_2(array,2))\n",
        "print(task2_2(array,3))"
      ],
      "metadata": {
        "colab": {
          "base_uri": "https://localhost:8080/"
        },
        "id": "Yu11prg6VNjt",
        "outputId": "e3b3cc34-5201-4e9b-f04a-ffcb21bfc9bd"
      },
      "execution_count": 18,
      "outputs": [
        {
          "output_type": "stream",
          "name": "stdout",
          "text": [
            "[1 2 3 4 1 2 3 4]\n",
            "[1 2 3 4 1 2 3 4 1 2 3 4]\n"
          ]
        }
      ]
    },
    {
      "cell_type": "markdown",
      "source": [
        "Task 2.3"
      ],
      "metadata": {
        "id": "pjdHdk2-cBpr"
      }
    },
    {
      "cell_type": "code",
      "source": [
        "import numpy as np\n",
        "\n",
        "def task2_3(arr, specValue):\n",
        "  for row in arr:\n",
        "    row[row > specValue] = specValue\n",
        "  return arr\n",
        "\n",
        "#test\n",
        "x =np.array([ [ 0.42, 0.48, 0.32],\n",
        "              [ 0.74, 0.58, 0.38],\n",
        "              [ 0.51, 0.34, 0.15] ])\n",
        "\n",
        "print(task2_3(x,0.5))\n"
      ],
      "metadata": {
        "colab": {
          "base_uri": "https://localhost:8080/"
        },
        "id": "q_cBWUmWV5JW",
        "outputId": "04d453f8-12af-4a41-be50-3835a607940f"
      },
      "execution_count": 34,
      "outputs": [
        {
          "output_type": "stream",
          "name": "stdout",
          "text": [
            "[[0.42 0.48 0.32]\n",
            " [0.5  0.5  0.38]\n",
            " [0.5  0.34 0.15]]\n"
          ]
        }
      ]
    }
  ]
}