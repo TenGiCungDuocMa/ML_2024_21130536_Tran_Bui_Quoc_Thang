{
  "nbformat": 4,
  "nbformat_minor": 0,
  "metadata": {
    "colab": {
      "provenance": [],
      "authorship_tag": "ABX9TyMe+unehEysWxI7O56Et18o",
      "include_colab_link": true
    },
    "kernelspec": {
      "name": "python3",
      "display_name": "Python 3"
    },
    "language_info": {
      "name": "python"
    }
  },
  "cells": [
    {
      "cell_type": "markdown",
      "metadata": {
        "id": "view-in-github",
        "colab_type": "text"
      },
      "source": [
        "<a href=\"https://colab.research.google.com/github/TenGiCungDuocMa/ML_2024_21130536_Tran_Bui_Quoc_Thang/blob/main/Lab1_21130536_TranBuiQuocThang.ipynb\" target=\"_parent\"><img src=\"https://colab.research.google.com/assets/colab-badge.svg\" alt=\"Open In Colab\"/></a>"
      ]
    },
    {
      "cell_type": "code",
      "execution_count": null,
      "metadata": {
        "id": "m145EMBOwmo6",
        "colab": {
          "base_uri": "https://localhost:8080/"
        },
        "outputId": "a028e411-c51b-4578-e766-c39fb66e2d00"
      },
      "outputs": [
        {
          "output_type": "stream",
          "name": "stdout",
          "text": [
            "Enter n= 10\n",
            "Enter = 1\n",
            "Enter = 4\n",
            "Enter = -1\n",
            "Enter = -4\n",
            "Enter = 0\n",
            "Enter = 5\n",
            "Enter = 5\n",
            "Enter = 7\n",
            "Enter = -7\n",
            "Enter = 3\n",
            "Min element in L is:  -7\n",
            "Max element in L is:  7\n",
            "Sum of l is:  13\n",
            "The total number of positive numbers is: 6\n",
            "The total number of negative numbers is: 3\n"
          ]
        }
      ],
      "source": [
        "#task1_1\n",
        "def task1_1():\n",
        "  n = int(input('Enter n= '))\n",
        "  l = []\n",
        "  for i in range(n):\n",
        "    l.append(int(input('Enter = ')))\n",
        "  l.sort()\n",
        "  print('Min element in L is: ',l[0])\n",
        "  l.reverse()\n",
        "  print('Max element in L is: ',l[0])\n",
        "  sumL = sum(l)\n",
        "  print('Sum of l is: ',sumL)\n",
        "  l.reverse()\n",
        "  countPosNum = 0\n",
        "  countNegNum = 0\n",
        "  for number in l:\n",
        "    if(number == 0):\n",
        "      continue\n",
        "    if (number> 0):\n",
        "      countPosNum += 1\n",
        "    else:\n",
        "      countNegNum += 1\n",
        "  print('The total number of positive numbers is:',countPosNum)\n",
        "  print('The total number of negative numbers is:',countNegNum)\n",
        "task1_1()"
      ]
    },
    {
      "cell_type": "code",
      "source": [
        "#task1_2\n",
        "def factorial(n):\n",
        "  if (n == 0):\n",
        "    return 1\n",
        "  return n*factorial(n-1)\n",
        "\n",
        "def task1_2(total,n):\n",
        "  if (n < 2):\n",
        "    return total + 1\n",
        "  else:\n",
        "    return task1_2(total,n-1) + factorial(n)\n",
        "\n",
        "s = task1_2(0,99)\n",
        "print(s)"
      ],
      "metadata": {
        "id": "0zBe5tNR9qZM",
        "colab": {
          "base_uri": "https://localhost:8080/"
        },
        "outputId": "ed099811-8818-492f-92f2-de9ffe6f35cb"
      },
      "execution_count": null,
      "outputs": [
        {
          "output_type": "stream",
          "name": "stdout",
          "text": [
            "942786239765826579160595268206839381354754349601050974345395410407078230249590414458830117442618180732911203520208889371641659121356556442336528920420940313\n"
          ]
        }
      ]
    },
    {
      "cell_type": "code",
      "source": [
        "#task1_3\n",
        "class Account:\n",
        "  def __init__(selt, name, email, country):\n",
        "    selt.__name = name\n",
        "    selt.__email = email\n",
        "    selt.__country = country\n",
        "    selt.__friends = []\n",
        "    selt.__posts = []\n",
        "\n",
        "  def getName(selt):\n",
        "    return selt.__name\n",
        "\n",
        "  def getFriends(selt):\n",
        "    return selt.__friends\n",
        "\n",
        "  def getPosts(selt):\n",
        "    return selt.__posts\n",
        "\n",
        "  def getCountry(selt):\n",
        "    return selt.__country\n",
        "\n",
        "  def toString(selt):\n",
        "    return selt.__name + ', ' + selt.__email + ', ' + selt.__country + ', '\n",
        "    + selt.__friends+ ', ' + selt.__posts\n",
        "\n",
        "  def getMaxLikePostByFriend(selt):\n",
        "    maxlike = -10\n",
        "    accountHasMaxLike = None\n",
        "    for f in selt.__friends:\n",
        "      for p in f.getPosts():\n",
        "        if(p.getLikes() > maxlike):\n",
        "          maxlike = p.getLikes()\n",
        "          accountHasMaxLike = f\n",
        "        else:\n",
        "          maxlike = maxlike\n",
        "    return accountHasMaxLike\n",
        "class Post:\n",
        "  def __init__(selt, content, subject, likes):\n",
        "    selt.__content = content\n",
        "    selt.__subject = subject\n",
        "    selt.__likes = likes\n",
        "  def getLikes(selt):\n",
        "    return selt.__likes\n",
        "\n",
        "class AccountManager():\n",
        "  def __init__(selt):\n",
        "    selt.__accounts = []\n",
        "\n",
        "  def getAccounts(selt):\n",
        "    return selt.__accounts\n",
        "\n",
        "  def groupAccountsByPostLike(selt):\n",
        "    d = {}\n",
        "    for acc in selt.__accounts:\n",
        "      if (len(acc.getPosts()) < 10):\n",
        "        d[False]= acc\n",
        "      else:\n",
        "        d[True] = acc\n",
        "    return d\n",
        "\n",
        "  def filterAccounts(selt,country):\n",
        "    listset = []\n",
        "    for acc in selt.__accounts:\n",
        "      if (acc.getCountry() == country):\n",
        "        listset.append(acc)\n",
        "    res = sorted(listset, reverse=True, key=lambda ac : len(ac.getPosts()))\n",
        "    result = sorted(res, key=lambda ac: ac.getName())\n",
        "    return result\n",
        "\n",
        "#test\n",
        "post1 = Post('sang nay an gi', 'sang nay an khoai lang luoc',200000)\n",
        "post2 = Post('trua nay an gi', 'trua nay an hu tieu',5000)\n",
        "post3 = Post('chieu nay an gi', 'chieu nay an banh xeo',4000)\n",
        "post4 = Post('toi nay an gi', 'toi nay an kem',300000)\n",
        "post5 = Post('sang mai an gi', 'sang mai an com',15000)\n",
        "post6 = Post('trua mai an gi', 'trua mai an banh canh',90)\n",
        "post7 = Post('chieu mai an gi', 'chieu mai an bun',3010)\n",
        "post8 = Post('toi mai an gi', 'toi mai an mi tom',900000000)\n",
        "post9 = Post('toi nay uong gi', 'toi nay uong ca phe',455600)\n",
        "post10 = Post('sang nay uong gi', 'sang nay uong tra sua',1000)\n",
        "\n",
        "acc1 = Account('tran bui quoc thang', '123@gmail.com', 'VN')\n",
        "acc2 = Account('tran quoc thang', '123asdf@gmail.com', 'VN')\n",
        "acc3 = Account('tran thang', 'xcvb123@gmail.com', 'USA')\n",
        "\n",
        "acc1.getFriends().append(acc2)\n",
        "acc1.getFriends().append(acc3)\n",
        "acc1.getPosts().append(post1)\n",
        "acc1.getPosts().append(post2)\n",
        "acc1.getPosts().append(post3)\n",
        "acc1.getPosts().append(post4)\n",
        "acc1.getPosts().append(post5)\n",
        "acc1.getPosts().append(post6)\n",
        "acc1.getPosts().append(post7)\n",
        "acc1.getPosts().append(post8)\n",
        "acc1.getPosts().append(post9)\n",
        "acc1.getPosts().append(post10)\n",
        "\n",
        "acc2.getFriends().append(acc3)\n",
        "acc2.getFriends().append(acc1)\n",
        "acc2.getPosts().append(post2)\n",
        "acc2.getPosts().append(post4)\n",
        "acc2.getPosts().append(post6)\n",
        "acc2.getPosts().append(post7)\n",
        "acc2.getPosts().append(post8)\n",
        "acc2.getPosts().append(post10)\n",
        "\n",
        "acc3.getFriends().append(acc1)\n",
        "acc3.getFriends().append(acc2)\n",
        "acc3.getPosts().append(post4)\n",
        "acc3.getPosts().append(post3)\n",
        "acc3.getPosts().append(post5)\n",
        "acc3.getPosts().append(post7)\n",
        "acc3.getPosts().append(post8)\n",
        "acc3.getPosts().append(post9)\n",
        "acc3.getPosts().append(post1)\n",
        "\n",
        "print('Get Max Like Post By Friend:')\n",
        "print(acc1.getMaxLikePostByFriend().toString())\n",
        "print(acc2.getMaxLikePostByFriend().toString())\n",
        "print(acc3.getMaxLikePostByFriend().toString())\n",
        "\n",
        "accmana = AccountManager()\n",
        "accmana.getAccounts().append(acc2)\n",
        "accmana.getAccounts().append(acc3)\n",
        "accmana.getAccounts().append(acc1)\n",
        "print('----------------------------------')\n",
        "print('Group Account By Post Like:')\n",
        "for key,value in accmana.groupAccountsByPostLike().items():\n",
        "  print(key,':',value.toString())\n",
        "print('----------------------------------')\n",
        "print('Filter Accounts:')\n",
        "for i in accmana.filterAccounts('VN'):\n",
        "  print(i.toString())"
      ],
      "metadata": {
        "colab": {
          "base_uri": "https://localhost:8080/"
        },
        "id": "ks2JE4wN606O",
        "outputId": "170f930b-537e-4a7f-b173-915bdf252ac7"
      },
      "execution_count": 15,
      "outputs": [
        {
          "output_type": "stream",
          "name": "stdout",
          "text": [
            "Get Max Like Post By Friend:\n",
            "tran quoc thang, 123asdf@gmail.com, VN, \n",
            "tran thang, xcvb123@gmail.com, USA, \n",
            "tran bui quoc thang, 123@gmail.com, VN, \n",
            "----------------------------------\n",
            "Group Account By Post Like:\n",
            "False : tran thang, xcvb123@gmail.com, USA, \n",
            "True : tran bui quoc thang, 123@gmail.com, VN, \n",
            "----------------------------------\n",
            "Filter Accounts:\n",
            "tran bui quoc thang, 123@gmail.com, VN, \n",
            "tran quoc thang, 123asdf@gmail.com, VN, \n"
          ]
        }
      ]
    }
  ]
}