{
  "nbformat": 4,
  "nbformat_minor": 0,
  "metadata": {
    "colab": {
      "provenance": [],
      "authorship_tag": "ABX9TyML1AFLwYAco/Y6HJGD5UIp",
      "include_colab_link": true
    },
    "kernelspec": {
      "name": "python3",
      "display_name": "Python 3"
    },
    "language_info": {
      "name": "python"
    }
  },
  "cells": [
    {
      "cell_type": "markdown",
      "metadata": {
        "id": "view-in-github",
        "colab_type": "text"
      },
      "source": [
        "<a href=\"https://colab.research.google.com/github/TenGiCungDuocMa/ML_2024_21130536_Tran_Bui_Quoc_Thang/blob/main/Lab1_21130536_TranBuiQuocThang.ipynb\" target=\"_parent\"><img src=\"https://colab.research.google.com/assets/colab-badge.svg\" alt=\"Open In Colab\"/></a>"
      ]
    },
    {
      "cell_type": "code",
      "execution_count": 2,
      "metadata": {
        "id": "m145EMBOwmo6",
        "colab": {
          "base_uri": "https://localhost:8080/"
        },
        "outputId": "a028e411-c51b-4578-e766-c39fb66e2d00"
      },
      "outputs": [
        {
          "output_type": "stream",
          "name": "stdout",
          "text": [
            "Enter n= 10\n",
            "Enter = 1\n",
            "Enter = 4\n",
            "Enter = -1\n",
            "Enter = -4\n",
            "Enter = 0\n",
            "Enter = 5\n",
            "Enter = 5\n",
            "Enter = 7\n",
            "Enter = -7\n",
            "Enter = 3\n",
            "Min element in L is:  -7\n",
            "Max element in L is:  7\n",
            "Sum of l is:  13\n",
            "The total number of positive numbers is: 6\n",
            "The total number of negative numbers is: 3\n"
          ]
        }
      ],
      "source": [
        "\n",
        "def task1_1():\n",
        "  n = int(input('Enter n= '))\n",
        "  l = []\n",
        "  for i in range(n):\n",
        "    l.append(int(input('Enter = ')))\n",
        "  l.sort()\n",
        "  print('Min element in L is: ',l[0])\n",
        "  l.reverse()\n",
        "  print('Max element in L is: ',l[0])\n",
        "  sumL = sum(l)\n",
        "  print('Sum of l is: ',sumL)\n",
        "  l.reverse()\n",
        "  countPosNum = 0\n",
        "  countNegNum = 0\n",
        "  for number in l:\n",
        "    if(number == 0):\n",
        "      continue\n",
        "    if (number> 0):\n",
        "      countPosNum += 1\n",
        "    else:\n",
        "      countNegNum += 1\n",
        "  print('The total number of positive numbers is:',countPosNum)\n",
        "  print('The total number of negative numbers is:',countNegNum)\n",
        "task1_1()"
      ]
    },
    {
      "cell_type": "code",
      "source": [
        "def factorial(n):\n",
        "  if (n == 0):\n",
        "    return 1\n",
        "  return n*factorial(n-1)\n",
        "\n",
        "def task1_2(total,n):\n",
        "  if (n < 2):\n",
        "    return total + 1\n",
        "  else:\n",
        "    return task1_2(total,n-1) + factorial(n)\n",
        "\n",
        "s = task1_2(0,99)\n",
        "print(s)"
      ],
      "metadata": {
        "id": "0zBe5tNR9qZM",
        "colab": {
          "base_uri": "https://localhost:8080/"
        },
        "outputId": "ed099811-8818-492f-92f2-de9ffe6f35cb"
      },
      "execution_count": 22,
      "outputs": [
        {
          "output_type": "stream",
          "name": "stdout",
          "text": [
            "942786239765826579160595268206839381354754349601050974345395410407078230249590414458830117442618180732911203520208889371641659121356556442336528920420940313\n"
          ]
        }
      ]
    }
  ]
}