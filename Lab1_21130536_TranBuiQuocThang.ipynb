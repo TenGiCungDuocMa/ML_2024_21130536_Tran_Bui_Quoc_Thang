{
  "nbformat": 4,
  "nbformat_minor": 0,
  "metadata": {
    "colab": {
      "provenance": [],
      "authorship_tag": "ABX9TyP5w7Kl6E0RfRrMbT1W70q8",
      "include_colab_link": true
    },
    "kernelspec": {
      "name": "python3",
      "display_name": "Python 3"
    },
    "language_info": {
      "name": "python"
    }
  },
  "cells": [
    {
      "cell_type": "markdown",
      "metadata": {
        "id": "view-in-github",
        "colab_type": "text"
      },
      "source": [
        "<a href=\"https://colab.research.google.com/github/TenGiCungDuocMa/ML_2024_21130536_Tran_Bui_Quoc_Thang/blob/main/Lab1_21130536_TranBuiQuocThang.ipynb\" target=\"_parent\"><img src=\"https://colab.research.google.com/assets/colab-badge.svg\" alt=\"Open In Colab\"/></a>"
      ]
    },
    {
      "cell_type": "code",
      "execution_count": 2,
      "metadata": {
        "id": "m145EMBOwmo6",
        "colab": {
          "base_uri": "https://localhost:8080/"
        },
        "outputId": "a028e411-c51b-4578-e766-c39fb66e2d00"
      },
      "outputs": [
        {
          "output_type": "stream",
          "name": "stdout",
          "text": [
            "Enter n= 10\n",
            "Enter = 1\n",
            "Enter = 4\n",
            "Enter = -1\n",
            "Enter = -4\n",
            "Enter = 0\n",
            "Enter = 5\n",
            "Enter = 5\n",
            "Enter = 7\n",
            "Enter = -7\n",
            "Enter = 3\n",
            "Min element in L is:  -7\n",
            "Max element in L is:  7\n",
            "Sum of l is:  13\n",
            "The total number of positive numbers is: 6\n",
            "The total number of negative numbers is: 3\n"
          ]
        }
      ],
      "source": [
        "#task1_1\n",
        "def task1_1():\n",
        "  n = int(input('Enter n= '))\n",
        "  l = []\n",
        "  for i in range(n):\n",
        "    l.append(int(input('Enter = ')))\n",
        "  l.sort()\n",
        "  print('Min element in L is: ',l[0])\n",
        "  l.reverse()\n",
        "  print('Max element in L is: ',l[0])\n",
        "  sumL = sum(l)\n",
        "  print('Sum of l is: ',sumL)\n",
        "  l.reverse()\n",
        "  countPosNum = 0\n",
        "  countNegNum = 0\n",
        "  for number in l:\n",
        "    if(number == 0):\n",
        "      continue\n",
        "    if (number> 0):\n",
        "      countPosNum += 1\n",
        "    else:\n",
        "      countNegNum += 1\n",
        "  print('The total number of positive numbers is:',countPosNum)\n",
        "  print('The total number of negative numbers is:',countNegNum)\n",
        "task1_1()"
      ]
    },
    {
      "cell_type": "code",
      "source": [
        "#task1_2\n",
        "def factorial(n):\n",
        "  if (n == 0):\n",
        "    return 1\n",
        "  return n*factorial(n-1)\n",
        "\n",
        "def task1_2(total,n):\n",
        "  if (n < 2):\n",
        "    return total + 1\n",
        "  else:\n",
        "    return task1_2(total,n-1) + factorial(n)\n",
        "\n",
        "s = task1_2(0,99)\n",
        "print(s)"
      ],
      "metadata": {
        "id": "0zBe5tNR9qZM",
        "colab": {
          "base_uri": "https://localhost:8080/"
        },
        "outputId": "ed099811-8818-492f-92f2-de9ffe6f35cb"
      },
      "execution_count": 22,
      "outputs": [
        {
          "output_type": "stream",
          "name": "stdout",
          "text": [
            "942786239765826579160595268206839381354754349601050974345395410407078230249590414458830117442618180732911203520208889371641659121356556442336528920420940313\n"
          ]
        }
      ]
    },
    {
      "cell_type": "code",
      "source": [
        "#task1_3\n",
        "class Account:\n",
        "  def __init__(selt, name, email, country):\n",
        "    selt.__name = name\n",
        "    selt.__email = email\n",
        "    selt.__country = country\n",
        "    selt.__friends = []\n",
        "    selt.__posts = []\n",
        "\n",
        "  def getFriends(selt):\n",
        "    return selt.__friends\n",
        "\n",
        "  def getPosts(selt):\n",
        "    return selt.__posts\n",
        "\n",
        "  def toString(selt):\n",
        "    return selt.__name + ', ' + selt.__email + ', ' + selt.__country + ', '\n",
        "    + selt.__friends+ ', ' + selt.__posts\n",
        "\n",
        "  def getMaxLikePostByFriend(selt):\n",
        "    maxlike = -10\n",
        "    accountHasMaxLike = None\n",
        "    for f in selt.__friends:\n",
        "      for p in f.getPosts():\n",
        "        if(p.getLikes() > maxlike):\n",
        "          maxlike = p.getLikes()\n",
        "          accountHasMaxLike = f\n",
        "        else:\n",
        "          maxlike = maxlike\n",
        "    return accountHasMaxLike\n",
        "class Post:\n",
        "  def __init__(selt, content, subject, likes):\n",
        "    selt.__content = content\n",
        "    selt.__subject = subject\n",
        "    selt.__likes = likes\n",
        "  def getLikes(selt):\n",
        "    return selt.__likes\n",
        "\n",
        "class AccountManager():\n",
        "  def __init__(selt):\n",
        "    selt.__acounts = []\n",
        "\n",
        "\n",
        "post1 = Post('sang nay an gi', 'sang nay an khoai lang luoc',200000)\n",
        "post2 = Post('trua nay an gi', 'trua nay an hu tieu',5000)\n",
        "post3 = Post('chieu nay an gi', 'chieu nay an banh xeo',4000)\n",
        "post4 = Post('toi nay an gi', 'toi nay an kem',300000)\n",
        "\n",
        "acc1 = Account('tran bui quoc thang', '123@gmail.com', 'VN')\n",
        "acc2 = Account('tran quoc thang', '123asdf@gmail.com', 'VN')\n",
        "acc3 = Account('tran thang', 'xcvb123@gmail.com', 'VN')\n",
        "\n",
        "acc1.getFriends().append(acc2)\n",
        "acc1.getFriends().append(acc3)\n",
        "acc1.getPosts().append(post1)\n",
        "acc1.getPosts().append(post3)\n",
        "\n",
        "acc2.getFriends().append(acc3)\n",
        "acc2.getFriends().append(acc1)\n",
        "acc2.getPosts().append(post2)\n",
        "\n",
        "acc3.getFriends().append(acc1)\n",
        "acc3.getFriends().append(acc2)\n",
        "acc3.getPosts().append(post4)\n",
        "\n",
        "print(acc1.getMaxLikePostByFriend().toString())\n",
        "print(acc2.getMaxLikePostByFriend().toString())\n",
        "print(acc3.getMaxLikePostByFriend().toString())"
      ],
      "metadata": {
        "colab": {
          "base_uri": "https://localhost:8080/"
        },
        "id": "ks2JE4wN606O",
        "outputId": "82eb6c0c-6379-41db-a7e8-d754127c06d4"
      },
      "execution_count": 35,
      "outputs": [
        {
          "output_type": "stream",
          "name": "stdout",
          "text": [
            "tran thang, xcvb123@gmail.com, VN, \n",
            "tran thang, xcvb123@gmail.com, VN, \n",
            "tran bui quoc thang, 123@gmail.com, VN, \n"
          ]
        }
      ]
    }
  ]
}